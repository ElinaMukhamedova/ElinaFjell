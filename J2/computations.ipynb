{
 "cells": [
  {
   "cell_type": "code",
   "execution_count": null,
   "metadata": {},
   "outputs": [],
   "source": [
    "from sympy import *\n",
    "\n",
    "\n",
    "epsilon, mu, alpha, f, L, G, H, l, g, h = symbols('epsilon mu alpha f L G H l g h')\n",
    "eta = G / L\n",
    "e = sqrt(1-eta**2)\n",
    "s2 = 1-H**2/G**2\n",
    "phi = f - l\n",
    "a = L**2/mu\n",
    "r = a*(1-e**2)/(1+e*cos(f))\n",
    "\n",
    "\n",
    "H0 = -mu**2 / (2 * L**2)\n",
    "H1 = mu/(2*r)*(alpha/r)**2*(3*s2*sin(f+g)**2-1)\n",
    "\n",
    "K0 = H0\n",
    "K1 = eta * (mu**2 / L**2) * (alpha**2 * mu**2 / G**4) * (3 * s2 / 4 - 1/2)\n",
    "\n",
    "P_2_0 = -105/64 * s2**2 + 15/4 * s2 - 15/8 - (27/16 * s2**2 - 9/4 * s2 + 3/4) * eta - (15/64 * s2**2 + 3/8 * s2 - 3/8) * eta**2\n",
    "P_2_2 = (45/32 * s2**2 - 21/16 * s2) * (eta**2 - 1) + 3/8 * s2 * (5 * s2 - 4) * (eta - 1)*(2*eta + 1)/(eta + 1)\n",
    "K2 = eta * (mu**2 / L**2) * (alpha**2 * mu**2 / G**4)**2 * (P_2_0 + P_2_2*cos(2*g))\n",
    "\n",
    "K = K0 + epsilon * K1 + 1/2*epsilon**2 * K2\n",
    "\n",
    "W1 = alpha**2 * mu**2 / (8 * eta**3 * L**3) * (2*(3*s2 - 2)*phi + 2*e*(3*s2 - 2)*sin(f) - 3*s2*sin(2*f+2*g) - 3*e*s2*sin(f+2*g) - e*s2*sin(3*f+2*g) - (eta-1)*(2*eta+1)*s2/(eta+1) * sin(2*g))\n",
    "\n",
    "S1 = s2*(5*s2-4)*phi\n",
    "S2 = s2*(3*s2-2)\n",
    "P1 = eta + 1\n",
    "P2 = eta - 1\n",
    "P3 = 3*eta + 7\n",
    "P4 = 5*eta + 11\n",
    "P5 = 13*eta + 31\n",
    "P6 = eta**2 - 5\n",
    "P7 = eta**2 + 7\n",
    "P8 = eta**2 - 10\n",
    "P9 = eta * (3*eta+4)\n",
    "P10 = 7*eta**2 + 9*eta - 1\n",
    "P11 = eta**2 + 3*eta + 2\n",
    "P12 = eta**2 + 4*eta + 3\n",
    "P13 = 3*eta**2 + 10*eta + 5\n",
    "P14 = eta**2 + 6*eta + 6\n",
    "P15 = eta**2 + 2*eta - 7\n",
    "P16 = eta**2 - 2*eta - 7\n",
    "P17 = 7*eta**2 + 22*eta + 11\n",
    "P18 = eta**2 + 8*eta +14\n",
    "P19 = eta**2 + 12*eta + 15\n",
    "P20 = eta**2 - 18*eta + 21\n",
    "P21 = eta**2 + 18*eta + 21\n",
    "P22 = 2*eta**2 + 9*eta + 23\n",
    "P23 = 2*eta**2 + 9*eta - 23\n",
    "P24 = -4*eta**2 - 6*eta + 26\n",
    "P25 = 5*eta**2 + 21*eta + 30\n",
    "P26 = 5*eta**2 + 4*eta - 31\n",
    "P27 = 3*eta**2 + 25*eta + 43\n",
    "P28 = 25*eta**2 - 6*eta - 59\n",
    "P29 = 49*eta**2 + 37*eta + 112\n",
    "P30 = -20*eta**2 + 102*eta + 126\n",
    "P31 = 26*eta**2 - 109*eta - 145\n",
    "P32 = 3*eta**3 - 7*eta**2 - 3*eta + 7\n",
    "P33 = -456*eta**4 - 510*eta**3 - 338*eta**2 + 382*eta + 538\n",
    "P34 = 540*eta**4 + 591*eta**3 + 397*eta**2 - 407*eta - 641\n",
    "\n",
    "W2 = alpha**4*mu**4/(L**7*eta**7) *\\\n",
    "    (-3/64*phi*(5*P7*s2**2+8*P8*s2-8*P6)\\\n",
    "     +1/(128*P1)*s2*(P34*s2+P33)*sin(2*g) + 3/(256*P1)*s2**2*P2**2*P3*sin(4*g)\\\n",
    "        +3/(32*P1)*P2*phi*(5*P13*s2**2-2*P17*s2)*cos(2*g)\\\n",
    "            +3/(128*e)*P2*(P29*s2**2-8*P25*s2+8*P19)*sin(f)\\\n",
    "                -3/(128*P1)*P2*(P26*s2**2+8*P14*s2-8*P12)*sin(2*f)\\\n",
    "                    +1/(256*P1*e)*P2**2*(P28*s2**2+16*P11*s2-16*P1**2)*sin(3*f)\\\n",
    "                        -9/(128*P1)*s2**2*P2**2*sin(4*f) + 3/(256*e)*s2**2*P2**3*sin(5*f)\\\n",
    "                            -3/(32*P1*e)*P2**2*(P10*s2**2-2*P9*s2)*sin(f-2*g)\\\n",
    "                                -3/(64*e)*s2*P2*(P31*s2+P30)*sin(f+2*g)\\\n",
    "                                    +3/(256*e)*s2**2*P2**3*sin(f-4*g) + 3/(256*P1*e)*s2**2*P2**2*P21*sin(f+4*g)\\\n",
    "                                        +3/(64*P1)*P2**2*S2*sin(2*f-2*g) + 3/64*s2*(P23*s2+P24)*sin(2*f+2*g)\\\n",
    "                                            +15/(256*P1)*s2**2*P2*P16*sin(2*f+4*g)\\\n",
    "                                                -1/(128*e)*S2*P2**3*sin(3*f-2*g) - 1/(32*e)*s2*P2*(P27*s2-2*P18)*sin(3*f+2*g)\\\n",
    "                                                    +15/(256*e)*s2**2*P2*P15*sin(3*f+4*g)\\\n",
    "                                                        -3/128*s2*P2*(P5*s2-2*P4)*sin(4*f+2*g) + 3/256*s2**2*P20*sin(4*f+4*g)\\\n",
    "                                                            -3/128*e*S2*P2*sin(5*f+2*g) + 3/(256*e)*s2**2*P32*sin(5*f+4*g)\\\n",
    "                                                                -3/256*e**2*s2**2*sin(6*f+4*g)\\\n",
    "                                                                    +9/16*e*S1*cos(f+2*g) + 9/16*S1*cos(2*f+2*g) + 3/16*e*S1*cos(3*f+2*g))\n",
    "\n",
    "C1 = -alpha**2*mu**2*(eta-1)*(2*eta+1)*s**2/(8*eta**3*(eta+1)*L**3) * sin(2*g)\n",
    "\n",
    "C_2_1 = 456*eta**4+510*eta**3+338*eta**2-382*eta-538\n",
    "C_2_2 = -540*eta**4-591*eta**3-397*eta**2+407*eta+641\n",
    "C_2_3 = 3*(eta-1)**2*(3*eta+7)\n",
    "\n",
    "C2 = alpha**4*mu**4/(256*eta**7*(eta+1)*L**7) * (2*s2*(C_2_1+C_2_2*s2)*sin(2*g)-3*C_2_3*s2**2*sin(4*g))"
   ]
  },
  {
   "cell_type": "code",
   "execution_count": 68,
   "metadata": {},
   "outputs": [
    {
     "data": {
      "text/latex": [
       "$\\displaystyle 0$"
      ],
      "text/plain": [
       "0"
      ]
     },
     "execution_count": 68,
     "metadata": {},
     "output_type": "execute_result"
    }
   ],
   "source": [
    "simplify(1/(2*pi)*integrate(H1*L/G*r**2/a**2, (f, 0, 2*pi)) - K1)"
   ]
  },
  {
   "cell_type": "code",
   "execution_count": 79,
   "metadata": {},
   "outputs": [
    {
     "data": {
      "text/latex": [
       "$\\displaystyle 0$"
      ],
      "text/plain": [
       "0"
      ]
     },
     "execution_count": 79,
     "metadata": {},
     "output_type": "execute_result"
    }
   ],
   "source": [
    "simplify(integrate(H1*L/G*r**2/a**2, (f, 0, 2*pi)) - integrate(K1, (l, 0, 2*pi)))"
   ]
  }
 ],
 "metadata": {
  "kernelspec": {
   "display_name": "base",
   "language": "python",
   "name": "python3"
  },
  "language_info": {
   "codemirror_mode": {
    "name": "ipython",
    "version": 3
   },
   "file_extension": ".py",
   "mimetype": "text/x-python",
   "name": "python",
   "nbconvert_exporter": "python",
   "pygments_lexer": "ipython3",
   "version": "3.11.8"
  }
 },
 "nbformat": 4,
 "nbformat_minor": 2
}
