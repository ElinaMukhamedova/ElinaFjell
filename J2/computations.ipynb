{
 "cells": [
  {
   "cell_type": "code",
   "execution_count": 1,
   "metadata": {},
   "outputs": [],
   "source": [
    "from sympy import *"
   ]
  },
  {
   "cell_type": "code",
   "execution_count": 12,
   "metadata": {},
   "outputs": [],
   "source": [
    "mu, alpha, s, f, g, a, e = symbols('mu alpha s f g a e')\n",
    "r = a*(1-e**2)/(1+e*cos(f))\n",
    "L = sqrt(mu*a)\n",
    "G = L*sqrt(1-e**2)\n",
    "eta = G/L"
   ]
  },
  {
   "cell_type": "code",
   "execution_count": 15,
   "metadata": {},
   "outputs": [
    {
     "data": {
      "text/latex": [
       "$\\displaystyle \\frac{\\alpha^{2} \\mu \\left(\\frac{9 \\pi e^{2} s^{2}}{4} - 3 \\pi e^{2} + 3 \\pi s^{2} - 2 \\pi\\right)}{4 \\pi a^{3} \\left(1 - e^{2}\\right)^{3}}$"
      ],
      "text/plain": [
       "alpha**2*mu*(9*pi*e**2*s**2/4 - 3*pi*e**2 + 3*pi*s**2 - 2*pi)/(4*pi*a**3*(1 - e**2)**3)"
      ]
     },
     "execution_count": 15,
     "metadata": {},
     "output_type": "execute_result"
    }
   ],
   "source": [
    "K1 = 1/(2*pi) * integrate((mu/(2*r) * (alpha/r)**2 * (3 * s**2 * sin(f)**2 - 1)), (f, 0, 2*pi))\n",
    "K1"
   ]
  },
  {
   "cell_type": "code",
   "execution_count": null,
   "metadata": {},
   "outputs": [],
   "source": [
    "eta, mu, L, alpha, G, s, f, phi, g = symbols('eta mu L alpha G s f phi g')\n"
   ]
  }
 ],
 "metadata": {
  "kernelspec": {
   "display_name": "base",
   "language": "python",
   "name": "python3"
  },
  "language_info": {
   "codemirror_mode": {
    "name": "ipython",
    "version": 3
   },
   "file_extension": ".py",
   "mimetype": "text/x-python",
   "name": "python",
   "nbconvert_exporter": "python",
   "pygments_lexer": "ipython3",
   "version": "3.11.8"
  }
 },
 "nbformat": 4,
 "nbformat_minor": 2
}
