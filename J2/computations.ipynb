{
 "cells": [
  {
   "cell_type": "code",
   "execution_count": 71,
   "metadata": {},
   "outputs": [],
   "source": [
    "from sympy import *\n",
    "\n",
    "\n",
    "epsilon, mu, alpha, f, L, G, H, l, g, h = symbols('epsilon mu alpha f L G H l g h')\n",
    "eta = G / L\n",
    "e = sqrt(1-eta**2)\n",
    "s2 = 1-H**2/G**2\n",
    "phi = f - l\n",
    "a = L**2/mu\n",
    "r = a*(1-e**2)/(1+e*cos(f))\n",
    "\n",
    "\n",
    "H0 = -mu**2 / (2 * L**2)\n",
    "H1 = mu/(2*r)*(alpha/r)**2*(3*s2*sin(f+g)**2-1)\n",
    "\n",
    "K0 = H0\n",
    "K1 = eta * (mu**2 / L**2) * (alpha**2 * mu**2 / G**4) * (3 * s2 / 4 - 1/2)\n",
    "\n",
    "P_2_0 = -105/64 * s2**2 + 15/4 * s2 - 15/8 - (27/16 * s2**2 - 9/4 * s2 + 3/4) * eta - (15/64 * s2**2 + 3/8 * s2 - 3/8) * eta**2\n",
    "P_2_2 = (45/32 * s2**2 - 21/16 * s2) * (eta**2 - 1) + 3/8 * s2 * (5 * s2 - 4) * (eta - 1)*(2*eta + 1)/(eta + 1)\n",
    "K2 = eta * (mu**2 / L**2) * (alpha**2 * mu**2 / G**4)**2 * (P_2_0 + P_2_2*cos(2*g))\n",
    "\n",
    "K = K0 + epsilon * K1 + 1/2*epsilon**2 * K2\n",
    "\n",
    "W1 = alpha**2 * mu**2 / (8 * eta**3 * L**3) * (2*(3*s2 - 2)*phi + 2*e*(3*s2 - 2)*sin(f) - 3*s2*sin(2*f+2*g) - 3*e*s2*sin(f+2*g) - e*s2*sin(3*f+2*g) - (eta-1)*(2*eta+1)*s2/(eta+1) * sin(2*g))\n",
    "\n",
    "S1 = s2*(5*s2-4)*phi\n",
    "S2 = s2*(3*s2-2)\n",
    "P1 = eta + 1\n",
    "P2 = eta - 1\n",
    "P3 = 3*eta + 7\n",
    "P4 = 5*eta + 11\n",
    "P5 = 13*eta + 31\n",
    "P6 = eta**2 - 5\n",
    "P7 = eta**2 + 7\n",
    "P8 = eta**2 - 10\n",
    "P9 = eta * (3*eta+4)\n",
    "P10 = 7*eta**2 + 9*eta - 1\n",
    "P11 = eta**2 + 3*eta + 2\n",
    "P12 = eta**2 + 4*eta + 3\n",
    "P13 = 3*eta**2 + 10*eta + 5\n",
    "P14 = eta**2 + 6*eta + 6\n",
    "P15 = eta**2 + 2*eta - 7\n",
    "P16 = eta**2 - 2*eta - 7\n",
    "P17 = 7*eta**2 + 22*eta + 11\n",
    "P18 = eta**2 + 8*eta +14\n",
    "P19 = eta**2 + 12*eta + 15\n",
    "P20 = eta**2 - 18*eta + 21\n",
    "P21 = eta**2 + 18*eta + 21\n",
    "P22 = 2*eta**2 + 9*eta + 23\n",
    "P23 = 2*eta**2 + 9*eta - 23\n",
    "P24 = -4*eta**2 - 6*eta + 26\n",
    "P25 = 5*eta**2 + 21*eta + 30\n",
    "P26 = 5*eta**2 + 4*eta - 31\n",
    "P27 = 3*eta**2 + 25*eta + 43\n",
    "P28 = 25*eta**2 - 6*eta - 59\n",
    "P29 = 49*eta**2 + 37*eta + 112\n",
    "P30 = -20*eta**2 + 102*eta + 126\n",
    "P31 = 26*eta**2 - 109*eta - 145\n",
    "P32 = 3*eta**3 - 7*eta**2 - 3*eta + 7\n",
    "P33 = -456*eta**4 - 510*eta**3 - 338*eta**2 + 382*eta + 538\n",
    "P34 = 540*eta**4 + 591*eta**3 + 397*eta**2 - 407*eta - 641\n",
    "\n",
    "W2 = alpha**4*mu**4/(L**7*eta**7) *\\\n",
    "    (-3/64*phi*(5*P7*s2**2+8*P8*s2-8*P6)\\\n",
    "     +1/(128*P1)*s2*(P34*s2+P33)*sin(2*g) + 3/(256*P1)*s2**2*P2**2*P3*sin(4*g)\\\n",
    "        +3/(32*P1)*P2*phi*(5*P13*s2**2-2*P17*s2)*cos(2*g)\\\n",
    "            +3/(128*e)*P2*(P29*s2**2-8*P25*s2+8*P19)*sin(f)\\\n",
    "                -3/(128*P1)*P2*(P26*s2**2+8*P14*s2-8*P12)*sin(2*f)\\\n",
    "                    +1/(256*P1*e)*P2**2*(P28*s2**2+16*P11*s2-16*P1**2)*sin(3*f)\\\n",
    "                        -9/(128*P1)*s2**2*P2**2*sin(4*f) + 3/(256*e)*s2**2*P2**3*sin(5*f)\\\n",
    "                            -3/(32*P1*e)*P2**2*(P10*s2**2-2*P9*s2)*sin(f-2*g)\\\n",
    "                                -3/(64*e)*s2*P2*(P31*s2+P30)*sin(f+2*g)\\\n",
    "                                    +3/(256*e)*s2**2*P2**3*sin(f-4*g) + 3/(256*P1*e)*s2**2*P2**2*P21*sin(f+4*g)\\\n",
    "                                        +3/(64*P1)*P2**2*S2*sin(2*f-2*g) + 3/64*s2*(P23*s2+P24)*sin(2*f+2*g)\\\n",
    "                                            +15/(256*P1)*s2**2*P2*P16*sin(2*f+4*g)\\\n",
    "                                                -1/(128*e)*S2*P2**3*sin(3*f-2*g) - 1/(32*e)*s2*P2*(P27*s2-2*P18)*sin(3*f+2*g)\\\n",
    "                                                    +15/(256*e)*s2**2*P2*P15*sin(3*f+4*g)\\\n",
    "                                                        -3/128*s2*P2*(P5*s2-2*P4)*sin(4*f+2*g) + 3/256*s2**2*P20*sin(4*f+4*g)\\\n",
    "                                                            -3/128*e*S2*P2*sin(5*f+2*g) + 3/(256*e)*s2**2*P32*sin(5*f+4*g)\\\n",
    "                                                                -3/256*e**2*s2**2*sin(6*f+4*g)\\\n",
    "                                                                    +9/16*e*S1*cos(f+2*g) + 9/16*S1*cos(2*f+2*g) + 3/16*e*S1*cos(3*f+2*g))\n",
    "\n",
    "C1 = -alpha**2*mu**2*(eta-1)*(2*eta+1)*s2/(8*eta**3*(eta+1)*L**3) * sin(2*g)\n",
    "\n",
    "C_2_1 = 456*eta**4+510*eta**3+338*eta**2-382*eta-538\n",
    "C_2_2 = -540*eta**4-591*eta**3-397*eta**2+407*eta+641\n",
    "C_2_3 = 3*(eta-1)**2*(3*eta+7)\n",
    "\n",
    "C2 = alpha**4*mu**4/(256*eta**7*(eta+1)*L**7) * (2*s2*(C_2_1+C_2_2*s2)*sin(2*g)-3*C_2_3*s2**2*sin(4*g))"
   ]
  },
  {
   "cell_type": "code",
   "execution_count": 4,
   "metadata": {},
   "outputs": [
    {
     "data": {
      "text/latex": [
       "$\\displaystyle 0$"
      ],
      "text/plain": [
       "0"
      ]
     },
     "execution_count": 4,
     "metadata": {},
     "output_type": "execute_result"
    }
   ],
   "source": [
    "simplify(1/(2*pi)*integrate(H1*L/G*r**2/a**2, (f, 0, 2*pi)) - K1)"
   ]
  },
  {
   "cell_type": "code",
   "execution_count": 5,
   "metadata": {},
   "outputs": [
    {
     "data": {
      "text/latex": [
       "$\\displaystyle 0$"
      ],
      "text/plain": [
       "0"
      ]
     },
     "execution_count": 5,
     "metadata": {},
     "output_type": "execute_result"
    }
   ],
   "source": [
    "simplify(integrate(H1*L/G*r**2/a**2, (f, 0, 2*pi)) - integrate(K1, (l, 0, 2*pi)))"
   ]
  },
  {
   "cell_type": "code",
   "execution_count": 6,
   "metadata": {},
   "outputs": [
    {
     "data": {
      "text/latex": [
       "$\\displaystyle \\frac{\\alpha^{2} \\mu^{4} \\left(\\left(3 - \\frac{3 H^{2}}{G^{2}}\\right) \\sin^{2}{\\left(f + g \\right)} - 1\\right) \\left(\\sqrt{- \\frac{G^{2}}{L^{2}} + 1} \\cos{\\left(f \\right)} + 1\\right)^{3}}{2 G^{6}}$"
      ],
      "text/plain": [
       "alpha**2*mu**4*((3 - 3*H**2/G**2)*sin(f + g)**2 - 1)*(sqrt(-G**2/L**2 + 1)*cos(f) + 1)**3/(2*G**6)"
      ]
     },
     "execution_count": 6,
     "metadata": {},
     "output_type": "execute_result"
    }
   ],
   "source": [
    "H1"
   ]
  },
  {
   "cell_type": "code",
   "execution_count": 11,
   "metadata": {},
   "outputs": [
    {
     "data": {
      "text/latex": [
       "$\\displaystyle \\frac{\\alpha^{2} \\mu^{4} \\left(0.25 - \\frac{3 H^{2}}{4 G^{2}}\\right)}{G^{3} L^{3}}$"
      ],
      "text/plain": [
       "alpha**2*mu**4*(0.25 - 3*H**2/(4*G**2))/(G**3*L**3)"
      ]
     },
     "execution_count": 11,
     "metadata": {},
     "output_type": "execute_result"
    }
   ],
   "source": [
    "K1"
   ]
  },
  {
   "cell_type": "code",
   "execution_count": 18,
   "metadata": {},
   "outputs": [
    {
     "data": {
      "text/latex": [
       "$\\displaystyle \\frac{\\alpha^{2} \\mu^{2} \\left(-2 + \\frac{6 H^{2}}{G^{2}}\\right)}{8 L^{3} \\left(\\sqrt{- \\frac{G^{2}}{L^{2}} + 1} \\cos{\\left(f \\right)} + 1\\right)^{2}}$"
      ],
      "text/plain": [
       "alpha**2*mu**2*(-2 + 6*H**2/G**2)/(8*L**3*(sqrt(-G**2/L**2 + 1)*cos(f) + 1)**2)"
      ]
     },
     "execution_count": 18,
     "metadata": {},
     "output_type": "execute_result"
    }
   ],
   "source": [
    "W1.diff(l) * L/G*r**2/a**2"
   ]
  },
  {
   "cell_type": "code",
   "execution_count": 20,
   "metadata": {},
   "outputs": [
    {
     "data": {
      "text/latex": [
       "$\\displaystyle \\frac{\\alpha^{2} \\mu^{2} \\left(2 G^{2} - 6 H^{2} + 2 \\sqrt{\\frac{- G^{2} + L^{2}}{L^{2}}} \\left(G^{2} - 3 H^{2}\\right) \\cos{\\left(f \\right)} - 3 \\sqrt{\\frac{- G^{2} + L^{2}}{L^{2}}} \\left(G^{2} - H^{2}\\right) \\cos{\\left(f + 2 g \\right)} - 3 \\sqrt{\\frac{- G^{2} + L^{2}}{L^{2}}} \\left(G^{2} - H^{2}\\right) \\cos{\\left(3 f + 2 g \\right)} + 6 \\left(- G^{2} + H^{2}\\right) \\cos{\\left(2 f + 2 g \\right)}\\right)}{8 G^{5}}$"
      ],
      "text/plain": [
       "alpha**2*mu**2*(2*G**2 - 6*H**2 + 2*sqrt((-G**2 + L**2)/L**2)*(G**2 - 3*H**2)*cos(f) - 3*sqrt((-G**2 + L**2)/L**2)*(G**2 - H**2)*cos(f + 2*g) - 3*sqrt((-G**2 + L**2)/L**2)*(G**2 - H**2)*cos(3*f + 2*g) + 6*(-G**2 + H**2)*cos(2*f + 2*g))/(8*G**5)"
      ]
     },
     "execution_count": 20,
     "metadata": {},
     "output_type": "execute_result"
    }
   ],
   "source": [
    "simplify(W1.diff(f))"
   ]
  },
  {
   "cell_type": "code",
   "execution_count": 25,
   "metadata": {},
   "outputs": [
    {
     "data": {
      "text/latex": [
       "$\\displaystyle \\frac{\\alpha^{2} \\mu^{2} \\left(G^{3} \\left(- 1.0 G^{2} + 3 H^{2}\\right) + 2 L^{3} \\left(- G^{2} + 3 \\left(G^{2} - H^{2}\\right) \\sin^{2}{\\left(f + g \\right)}\\right) \\left(\\sqrt{- \\frac{G^{2}}{L^{2}} + 1} \\cos{\\left(f \\right)} + 1\\right)^{3}\\right)}{4 G^{5} L^{3} \\left(\\sqrt{- \\frac{G^{2}}{L^{2}} + 1} \\cos{\\left(f \\right)} + 1\\right)^{2}}$"
      ],
      "text/plain": [
       "alpha**2*mu**2*(G**3*(-1.0*G**2 + 3*H**2) + 2*L**3*(-G**2 + 3*(G**2 - H**2)*sin(f + g)**2)*(sqrt(-G**2/L**2 + 1)*cos(f) + 1)**3)/(4*G**5*L**3*(sqrt(-G**2/L**2 + 1)*cos(f) + 1)**2)"
      ]
     },
     "execution_count": 25,
     "metadata": {},
     "output_type": "execute_result"
    }
   ],
   "source": [
    "simplify(L**3/mu**2*(H1-K1)*L/G*r**2/a**2)"
   ]
  },
  {
   "cell_type": "code",
   "execution_count": 31,
   "metadata": {},
   "outputs": [
    {
     "data": {
      "text/latex": [
       "$\\displaystyle - \\frac{\\alpha^{2} \\mu^{2} \\left(- G^{2} + 3 H^{2}\\right)}{4 G^{2} L^{3} \\left(\\sqrt{- \\frac{G^{2}}{L^{2}} + 1} \\cos{\\left(f \\right)} + 1\\right)^{2}} + \\frac{\\alpha^{2} \\mu^{2} \\left(G^{3} \\left(- 1.0 G^{2} + 3 H^{2}\\right) + 2 L^{3} \\left(- G^{2} + 3 \\left(G^{2} - H^{2}\\right) \\sin^{2}{\\left(f + g \\right)}\\right) \\left(\\sqrt{- \\frac{G^{2}}{L^{2}} + 1} \\cos{\\left(f \\right)} + 1\\right)^{3}\\right)}{4 G^{5} L^{3} \\left(\\sqrt{- \\frac{G^{2}}{L^{2}} + 1} \\cos{\\left(f \\right)} + 1\\right)^{2}}$"
      ],
      "text/plain": [
       "-alpha**2*mu**2*(-G**2 + 3*H**2)/(4*G**2*L**3*(sqrt(-G**2/L**2 + 1)*cos(f) + 1)**2) + alpha**2*mu**2*(G**3*(-1.0*G**2 + 3*H**2) + 2*L**3*(-G**2 + 3*(G**2 - H**2)*sin(f + g)**2)*(sqrt(-G**2/L**2 + 1)*cos(f) + 1)**3)/(4*G**5*L**3*(sqrt(-G**2/L**2 + 1)*cos(f) + 1)**2)"
      ]
     },
     "execution_count": 31,
     "metadata": {},
     "output_type": "execute_result"
    }
   ],
   "source": [
    "simplify(L**3/mu**2*(H1-K1)*L/G*r**2/a**2) - simplify(W1.diff(l) * L/G*r**2/a**2)"
   ]
  },
  {
   "cell_type": "code",
   "execution_count": 34,
   "metadata": {},
   "outputs": [
    {
     "data": {
      "text/latex": [
       "$\\displaystyle \\frac{\\alpha^{2} \\mu^{2} \\left(- G^{2} + \\left(3 G^{2} - 3 H^{2}\\right) \\sin^{2}{\\left(f + g \\right)}\\right) \\left(\\sqrt{- \\frac{G^{2}}{L^{2}} + 1} \\cos{\\left(f \\right)} + 1\\right)}{2 G^{5}}$"
      ],
      "text/plain": [
       "alpha**2*mu**2*(-G**2 + (3*G**2 - 3*H**2)*sin(f + g)**2)*(sqrt(-G**2/L**2 + 1)*cos(f) + 1)/(2*G**5)"
      ]
     },
     "execution_count": 34,
     "metadata": {},
     "output_type": "execute_result"
    }
   ],
   "source": [
    "result = alpha**2*mu**2*(-G**2+3*(G**2-H**2)*sin(f+g)**2)*(sqrt(1-G**2/L**2)*cos(f)+1)/(2*G**5)\n",
    "result"
   ]
  },
  {
   "cell_type": "code",
   "execution_count": 42,
   "metadata": {},
   "outputs": [
    {
     "data": {
      "text/latex": [
       "$\\displaystyle \\begin{cases} \\text{NaN} & \\text{for}\\: \\left(G = 0 \\wedge L = 0\\right) \\vee \\left(G = 0 \\wedge G = L \\wedge L = 0\\right) \\vee \\left(G = 0 \\wedge G = - L \\wedge L = 0\\right) \\vee \\left(G = 0 \\wedge G = - L \\wedge G = L \\wedge L = 0\\right) \\\\0 & \\text{otherwise} \\end{cases}$"
      ],
      "text/plain": [
       "Piecewise((nan, (Eq(G, 0) & Eq(L, 0)) | (Eq(G, 0) & Eq(G, L) & Eq(L, 0)) | (Eq(G, 0) & Eq(L, 0) & Eq(G, -L)) | (Eq(G, 0) & Eq(G, L) & Eq(L, 0) & Eq(G, -L))), (0, True))"
      ]
     },
     "execution_count": 42,
     "metadata": {},
     "output_type": "execute_result"
    }
   ],
   "source": [
    "A = 2*e*(3*s2-2)*sin(f)\n",
    "integrate(A*L/G*r**2/a**2, (f, 0, 2*pi))"
   ]
  },
  {
   "cell_type": "code",
   "execution_count": 48,
   "metadata": {},
   "outputs": [
    {
     "data": {
      "text/latex": [
       "$\\displaystyle \\frac{4 \\pi^{2} \\left(- G^{2} + 3 H^{2}\\right)}{G^{2}}$"
      ],
      "text/plain": [
       "4*pi**2*(-G**2 + 3*H**2)/G**2"
      ]
     },
     "execution_count": 48,
     "metadata": {},
     "output_type": "execute_result"
    }
   ],
   "source": [
    "B1 = 2*(3*s2-2)*(-l)\n",
    "integrate(B1, (l, 0, 2*pi))"
   ]
  },
  {
   "cell_type": "code",
   "execution_count": 60,
   "metadata": {},
   "outputs": [
    {
     "data": {
      "text/latex": [
       "$\\displaystyle \\frac{G^{3} L f \\left(2 - \\frac{6 H^{2}}{G^{2}}\\right)}{a^{2} \\mu^{2} \\left(\\sqrt{- \\frac{G^{2}}{L^{2}} + 1} \\cos{\\left(f \\right)} + 1\\right)^{2}}$"
      ],
      "text/plain": [
       "G**3*L*f*(2 - 6*H**2/G**2)/(a**2*mu**2*(sqrt(-G**2/L**2 + 1)*cos(f) + 1)**2)"
      ]
     },
     "execution_count": 60,
     "metadata": {},
     "output_type": "execute_result"
    }
   ],
   "source": [
    "B2 = 2*(3*s2-2)*f\n",
    "B2*L/G*r**2/a**2"
   ]
  },
  {
   "cell_type": "code",
   "execution_count": 65,
   "metadata": {},
   "outputs": [
    {
     "data": {
      "text/latex": [
       "$\\displaystyle \\int\\limits_{0}^{2 \\pi} \\frac{x}{\\left(a \\cos{\\left(x \\right)} + 1\\right)^{2}}\\, dx$"
      ],
      "text/plain": [
       "Integral(x/(a*cos(x) + 1)**2, (x, 0, 2*pi))"
      ]
     },
     "execution_count": 65,
     "metadata": {},
     "output_type": "execute_result"
    }
   ],
   "source": [
    "a, x = symbols('a x')\n",
    "integrate(x/((a*cos(x)+1)**2), (x, 0, 2*pi))"
   ]
  },
  {
   "cell_type": "code",
   "execution_count": 72,
   "metadata": {},
   "outputs": [
    {
     "data": {
      "text/latex": [
       "$\\displaystyle \\frac{\\alpha^{4} \\mu^{6} \\left(- \\frac{G^{2} \\left(0.234375 \\left(1 - \\frac{H^{2}}{G^{2}}\\right)^{2} - \\frac{0.375 H^{2}}{G^{2}}\\right)}{L^{2}} - \\frac{G \\left(1.6875 \\left(1 - \\frac{H^{2}}{G^{2}}\\right)^{2} - 1.5 + \\frac{2.25 H^{2}}{G^{2}}\\right)}{L} - 1.640625 \\left(1 - \\frac{H^{2}}{G^{2}}\\right)^{2} + \\left(\\frac{\\left(0.375 - \\frac{0.375 H^{2}}{G^{2}}\\right) \\left(1 - \\frac{5 H^{2}}{G^{2}}\\right) \\left(\\frac{G}{L} - 1\\right) \\left(\\frac{2 G}{L} + 1\\right)}{\\frac{G}{L} + 1} + \\left(\\frac{G^{2}}{L^{2}} - 1\\right) \\left(1.40625 \\left(1 - \\frac{H^{2}}{G^{2}}\\right)^{2} - 1.3125 + \\frac{1.3125 H^{2}}{G^{2}}\\right)\\right) \\cos{\\left(2 g \\right)} + 1.875 - \\frac{3.75 H^{2}}{G^{2}}\\right)}{G^{7} L^{3}}$"
      ],
      "text/plain": [
       "alpha**4*mu**6*(-G**2*(0.234375*(1 - H**2/G**2)**2 - 0.375*H**2/G**2)/L**2 - G*(1.6875*(1 - H**2/G**2)**2 - 1.5 + 2.25*H**2/G**2)/L - 1.640625*(1 - H**2/G**2)**2 + ((0.375 - 0.375*H**2/G**2)*(1 - 5*H**2/G**2)*(G/L - 1)*(2*G/L + 1)/(G/L + 1) + (G**2/L**2 - 1)*(1.40625*(1 - H**2/G**2)**2 - 1.3125 + 1.3125*H**2/G**2))*cos(2*g) + 1.875 - 3.75*H**2/G**2)/(G**7*L**3)"
      ]
     },
     "execution_count": 72,
     "metadata": {},
     "output_type": "execute_result"
    }
   ],
   "source": [
    "K2"
   ]
  },
  {
   "cell_type": "code",
   "execution_count": 73,
   "metadata": {},
   "outputs": [
    {
     "data": {
      "text/latex": [
       "$\\displaystyle \\frac{\\alpha^{4} \\mu^{6} \\left(- \\frac{0.375 G^{2}}{L^{2}} - 0.5625 \\left(1 - \\frac{5 H^{2}}{G^{2}}\\right) \\left(1 - \\frac{H^{2}}{G^{2}}\\right) \\sqrt{- \\frac{G^{2}}{L^{2}} + 1} \\cos{\\left(f + 2 g \\right)} - 0.1875 \\left(1 - \\frac{5 H^{2}}{G^{2}}\\right) \\left(1 - \\frac{H^{2}}{G^{2}}\\right) \\sqrt{- \\frac{G^{2}}{L^{2}} + 1} \\cos{\\left(3 f + 2 g \\right)} - 0.5625 \\left(1 - \\frac{5 H^{2}}{G^{2}}\\right) \\left(1 - \\frac{H^{2}}{G^{2}}\\right) \\cos{\\left(2 f + 2 g \\right)} + 0.046875 \\left(1 - \\frac{H^{2}}{G^{2}}\\right)^{2} \\left(\\frac{5 G^{2}}{L^{2}} + 35\\right) + 0.046875 \\left(1 - \\frac{H^{2}}{G^{2}}\\right) \\left(\\frac{8 G^{2}}{L^{2}} - 80\\right) - \\frac{3 \\left(\\frac{G}{L} - 1\\right) \\left(\\left(1 - \\frac{H^{2}}{G^{2}}\\right)^{2} \\left(\\frac{15 G^{2}}{L^{2}} + \\frac{50 G}{L} + 25\\right) - \\left(1 - \\frac{H^{2}}{G^{2}}\\right) \\left(\\frac{14 G^{2}}{L^{2}} + \\frac{44 G}{L} + 22\\right)\\right) \\cos{\\left(2 g \\right)}}{\\frac{32 G}{L} + 32} + 1.875\\right)}{G^{7} L^{3}}$"
      ],
      "text/plain": [
       "alpha**4*mu**6*(-0.375*G**2/L**2 - 0.5625*(1 - 5*H**2/G**2)*(1 - H**2/G**2)*sqrt(-G**2/L**2 + 1)*cos(f + 2*g) - 0.1875*(1 - 5*H**2/G**2)*(1 - H**2/G**2)*sqrt(-G**2/L**2 + 1)*cos(3*f + 2*g) - 0.5625*(1 - 5*H**2/G**2)*(1 - H**2/G**2)*cos(2*f + 2*g) + 0.046875*(1 - H**2/G**2)**2*(5*G**2/L**2 + 35) + 0.046875*(1 - H**2/G**2)*(8*G**2/L**2 - 80) - 3*(G/L - 1)*((1 - H**2/G**2)**2*(15*G**2/L**2 + 50*G/L + 25) - (1 - H**2/G**2)*(14*G**2/L**2 + 44*G/L + 22))*cos(2*g)/(32*G/L + 32) + 1.875)/(G**7*L**3)"
      ]
     },
     "execution_count": 73,
     "metadata": {},
     "output_type": "execute_result"
    }
   ],
   "source": [
    "mu**2/(L**3)*W2.diff(l)"
   ]
  },
  {
   "cell_type": "code",
   "execution_count": 74,
   "metadata": {},
   "outputs": [
    {
     "data": {
      "text/latex": [
       "$\\displaystyle \\frac{\\alpha^{4} \\mu^{6} \\left(\\sqrt{- \\frac{G^{2}}{L^{2}} + 1} \\cos{\\left(f \\right)} + 1\\right)^{2} \\left(\\frac{0.375 G^{2}}{L^{2}} - 4 \\left(0.0234375 - \\frac{0.0234375 H^{2}}{G^{2}}\\right) \\left(\\frac{G}{L} - 1\\right) \\left(- \\frac{10 G}{L} + \\left(1 - \\frac{H^{2}}{G^{2}}\\right) \\left(\\frac{13 G}{L} + 31\\right) - 22\\right) \\cos{\\left(4 f + 2 g \\right)} + 2 \\left(0.046875 - \\frac{0.046875 H^{2}}{G^{2}}\\right) \\left(- \\frac{4 G^{2}}{L^{2}} - \\frac{6 G}{L} + \\left(1 - \\frac{H^{2}}{G^{2}}\\right) \\left(\\frac{2 G^{2}}{L^{2}} + \\frac{9 G}{L} - 23\\right) + 26\\right) \\cos{\\left(2 f + 2 g \\right)} - 0.5625 \\left(1 - \\frac{5 H^{2}}{G^{2}}\\right) \\left(1 - \\frac{H^{2}}{G^{2}}\\right) \\left(f - l\\right) \\sqrt{- \\frac{G^{2}}{L^{2}} + 1} \\sin{\\left(f + 2 g \\right)} - 0.5625 \\left(1 - \\frac{5 H^{2}}{G^{2}}\\right) \\left(1 - \\frac{H^{2}}{G^{2}}\\right) \\left(f - l\\right) \\sqrt{- \\frac{G^{2}}{L^{2}} + 1} \\sin{\\left(3 f + 2 g \\right)} - 1.125 \\left(1 - \\frac{5 H^{2}}{G^{2}}\\right) \\left(1 - \\frac{H^{2}}{G^{2}}\\right) \\left(f - l\\right) \\sin{\\left(2 f + 2 g \\right)} + 0.5625 \\left(1 - \\frac{5 H^{2}}{G^{2}}\\right) \\left(1 - \\frac{H^{2}}{G^{2}}\\right) \\sqrt{- \\frac{G^{2}}{L^{2}} + 1} \\cos{\\left(f + 2 g \\right)} + 0.1875 \\left(1 - \\frac{5 H^{2}}{G^{2}}\\right) \\left(1 - \\frac{H^{2}}{G^{2}}\\right) \\sqrt{- \\frac{G^{2}}{L^{2}} + 1} \\cos{\\left(3 f + 2 g \\right)} + 0.5625 \\left(1 - \\frac{5 H^{2}}{G^{2}}\\right) \\left(1 - \\frac{H^{2}}{G^{2}}\\right) \\cos{\\left(2 f + 2 g \\right)} - \\frac{3 \\left(1 - \\frac{3 H^{2}}{G^{2}}\\right) \\left(1 - \\frac{H^{2}}{G^{2}}\\right) \\left(\\frac{G}{L} - 1\\right)^{3} \\cos{\\left(3 f - 2 g \\right)}}{128 \\sqrt{- \\frac{G^{2}}{L^{2}} + 1}} + \\frac{6 \\left(1 - \\frac{3 H^{2}}{G^{2}}\\right) \\left(1 - \\frac{H^{2}}{G^{2}}\\right) \\left(\\frac{G}{L} - 1\\right)^{2} \\cos{\\left(2 f - 2 g \\right)}}{\\frac{64 G}{L} + 64} - 0.1171875 \\left(1 - \\frac{3 H^{2}}{G^{2}}\\right) \\left(1 - \\frac{H^{2}}{G^{2}}\\right) \\left(\\frac{G}{L} - 1\\right) \\sqrt{- \\frac{G^{2}}{L^{2}} + 1} \\cos{\\left(5 f + 2 g \\right)} + \\frac{15 \\left(1 - \\frac{H^{2}}{G^{2}}\\right)^{2} \\left(\\frac{G}{L} - 1\\right)^{3} \\cos{\\left(5 f \\right)}}{256 \\sqrt{- \\frac{G^{2}}{L^{2}} + 1}} + \\frac{3 \\left(1 - \\frac{H^{2}}{G^{2}}\\right)^{2} \\left(\\frac{G}{L} - 1\\right)^{3} \\cos{\\left(f - 4 g \\right)}}{256 \\sqrt{- \\frac{G^{2}}{L^{2}} + 1}} + \\frac{3 \\left(1 - \\frac{H^{2}}{G^{2}}\\right)^{2} \\left(\\frac{G}{L} - 1\\right)^{2} \\left(\\frac{G^{2}}{L^{2}} + \\frac{18 G}{L} + 21\\right) \\cos{\\left(f + 4 g \\right)}}{\\left(\\frac{256 G}{L} + 256\\right) \\sqrt{- \\frac{G^{2}}{L^{2}} + 1}} - \\frac{36 \\left(1 - \\frac{H^{2}}{G^{2}}\\right)^{2} \\left(\\frac{G}{L} - 1\\right)^{2} \\cos{\\left(4 f \\right)}}{\\frac{128 G}{L} + 128} + \\frac{45 \\left(1 - \\frac{H^{2}}{G^{2}}\\right)^{2} \\left(\\frac{G}{L} - 1\\right) \\left(\\frac{G^{2}}{L^{2}} + \\frac{2 G}{L} - 7\\right) \\cos{\\left(3 f + 4 g \\right)}}{256 \\sqrt{- \\frac{G^{2}}{L^{2}} + 1}} + \\frac{30 \\left(1 - \\frac{H^{2}}{G^{2}}\\right)^{2} \\left(\\frac{G}{L} - 1\\right) \\left(\\frac{G^{2}}{L^{2}} - \\frac{2 G}{L} - 7\\right) \\cos{\\left(2 f + 4 g \\right)}}{\\frac{256 G}{L} + 256} - 6 \\left(1 - \\frac{H^{2}}{G^{2}}\\right)^{2} \\left(- \\frac{0.01171875 G^{2}}{L^{2}} + 0.01171875\\right) \\cos{\\left(6 f + 4 g \\right)} - 0.046875 \\left(1 - \\frac{H^{2}}{G^{2}}\\right)^{2} \\left(\\frac{5 G^{2}}{L^{2}} + 35\\right) + 0.046875 \\left(1 - \\frac{H^{2}}{G^{2}}\\right)^{2} \\left(\\frac{G^{2}}{L^{2}} - \\frac{18 G}{L} + 21\\right) \\cos{\\left(4 f + 4 g \\right)} + \\frac{15 \\left(1 - \\frac{H^{2}}{G^{2}}\\right)^{2} \\left(\\frac{3 G^{3}}{L^{3}} - \\frac{7 G^{2}}{L^{2}} - \\frac{3 G}{L} + 7\\right) \\cos{\\left(5 f + 4 g \\right)}}{256 \\sqrt{- \\frac{G^{2}}{L^{2}} + 1}} - \\frac{3 \\left(1 - \\frac{H^{2}}{G^{2}}\\right) \\left(\\frac{G}{L} - 1\\right) \\left(- \\frac{20 G^{2}}{L^{2}} + \\frac{102 G}{L} + \\left(1 - \\frac{H^{2}}{G^{2}}\\right) \\left(\\frac{26 G^{2}}{L^{2}} - \\frac{109 G}{L} - 145\\right) + 126\\right) \\cos{\\left(f + 2 g \\right)}}{64 \\sqrt{- \\frac{G^{2}}{L^{2}} + 1}} - \\frac{3 \\left(1 - \\frac{H^{2}}{G^{2}}\\right) \\left(\\frac{G}{L} - 1\\right) \\left(- \\frac{2 G^{2}}{L^{2}} - \\frac{16 G}{L} + \\left(1 - \\frac{H^{2}}{G^{2}}\\right) \\left(\\frac{3 G^{2}}{L^{2}} + \\frac{25 G}{L} + 43\\right) - 28\\right) \\cos{\\left(3 f + 2 g \\right)}}{32 \\sqrt{- \\frac{G^{2}}{L^{2}} + 1}} - 0.046875 \\left(1 - \\frac{H^{2}}{G^{2}}\\right) \\left(\\frac{8 G^{2}}{L^{2}} - 80\\right) + \\frac{3 \\left(\\frac{G}{L} - 1\\right)^{2} \\left(\\left(1 - \\frac{H^{2}}{G^{2}}\\right)^{2} \\left(\\frac{25 G^{2}}{L^{2}} - \\frac{6 G}{L} - 59\\right) + \\left(1 - \\frac{H^{2}}{G^{2}}\\right) \\left(\\frac{16 G^{2}}{L^{2}} + \\frac{48 G}{L} + 32\\right) - 16 \\left(\\frac{G}{L} + 1\\right)^{2}\\right) \\cos{\\left(3 f \\right)}}{\\left(\\frac{256 G}{L} + 256\\right) \\sqrt{- \\frac{G^{2}}{L^{2}} + 1}} - \\frac{3 \\left(\\frac{G}{L} - 1\\right)^{2} \\left(- \\frac{2 G \\left(1 - \\frac{H^{2}}{G^{2}}\\right) \\left(\\frac{3 G}{L} + 4\\right)}{L} + \\left(1 - \\frac{H^{2}}{G^{2}}\\right)^{2} \\left(\\frac{7 G^{2}}{L^{2}} + \\frac{9 G}{L} - 1\\right)\\right) \\cos{\\left(f - 2 g \\right)}}{\\left(\\frac{32 G}{L} + 32\\right) \\sqrt{- \\frac{G^{2}}{L^{2}} + 1}} + \\frac{3 \\left(\\frac{G}{L} - 1\\right) \\left(\\frac{8 G^{2}}{L^{2}} + \\frac{96 G}{L} + \\left(1 - \\frac{H^{2}}{G^{2}}\\right)^{2} \\left(\\frac{49 G^{2}}{L^{2}} + \\frac{37 G}{L} + 112\\right) - \\left(1 - \\frac{H^{2}}{G^{2}}\\right) \\left(\\frac{40 G^{2}}{L^{2}} + \\frac{168 G}{L} + 240\\right) + 120\\right) \\cos{\\left(f \\right)}}{128 \\sqrt{- \\frac{G^{2}}{L^{2}} + 1}} - \\frac{6 \\left(\\frac{G}{L} - 1\\right) \\left(- \\frac{8 G^{2}}{L^{2}} - \\frac{32 G}{L} + \\left(1 - \\frac{H^{2}}{G^{2}}\\right)^{2} \\left(\\frac{5 G^{2}}{L^{2}} + \\frac{4 G}{L} - 31\\right) + \\left(1 - \\frac{H^{2}}{G^{2}}\\right) \\left(\\frac{8 G^{2}}{L^{2}} + \\frac{48 G}{L} + 48\\right) - 24\\right) \\cos{\\left(2 f \\right)}}{\\frac{128 G}{L} + 128} + \\frac{3 \\left(\\frac{G}{L} - 1\\right) \\left(\\left(1 - \\frac{H^{2}}{G^{2}}\\right)^{2} \\left(\\frac{15 G^{2}}{L^{2}} + \\frac{50 G}{L} + 25\\right) - \\left(1 - \\frac{H^{2}}{G^{2}}\\right) \\left(\\frac{14 G^{2}}{L^{2}} + \\frac{44 G}{L} + 22\\right)\\right) \\cos{\\left(2 g \\right)}}{\\frac{32 G}{L} + 32} - 1.875\\right)}{G^{10}}$"
      ],
      "text/plain": [
       "alpha**4*mu**6*(sqrt(-G**2/L**2 + 1)*cos(f) + 1)**2*(0.375*G**2/L**2 - 4*(0.0234375 - 0.0234375*H**2/G**2)*(G/L - 1)*(-10*G/L + (1 - H**2/G**2)*(13*G/L + 31) - 22)*cos(4*f + 2*g) + 2*(0.046875 - 0.046875*H**2/G**2)*(-4*G**2/L**2 - 6*G/L + (1 - H**2/G**2)*(2*G**2/L**2 + 9*G/L - 23) + 26)*cos(2*f + 2*g) - 0.5625*(1 - 5*H**2/G**2)*(1 - H**2/G**2)*(f - l)*sqrt(-G**2/L**2 + 1)*sin(f + 2*g) - 0.5625*(1 - 5*H**2/G**2)*(1 - H**2/G**2)*(f - l)*sqrt(-G**2/L**2 + 1)*sin(3*f + 2*g) - 1.125*(1 - 5*H**2/G**2)*(1 - H**2/G**2)*(f - l)*sin(2*f + 2*g) + 0.5625*(1 - 5*H**2/G**2)*(1 - H**2/G**2)*sqrt(-G**2/L**2 + 1)*cos(f + 2*g) + 0.1875*(1 - 5*H**2/G**2)*(1 - H**2/G**2)*sqrt(-G**2/L**2 + 1)*cos(3*f + 2*g) + 0.5625*(1 - 5*H**2/G**2)*(1 - H**2/G**2)*cos(2*f + 2*g) - 3*(1 - 3*H**2/G**2)*(1 - H**2/G**2)*(G/L - 1)**3*cos(3*f - 2*g)/(128*sqrt(-G**2/L**2 + 1)) + 6*(1 - 3*H**2/G**2)*(1 - H**2/G**2)*(G/L - 1)**2*cos(2*f - 2*g)/(64*G/L + 64) - 0.1171875*(1 - 3*H**2/G**2)*(1 - H**2/G**2)*(G/L - 1)*sqrt(-G**2/L**2 + 1)*cos(5*f + 2*g) + 15*(1 - H**2/G**2)**2*(G/L - 1)**3*cos(5*f)/(256*sqrt(-G**2/L**2 + 1)) + 3*(1 - H**2/G**2)**2*(G/L - 1)**3*cos(f - 4*g)/(256*sqrt(-G**2/L**2 + 1)) + 3*(1 - H**2/G**2)**2*(G/L - 1)**2*(G**2/L**2 + 18*G/L + 21)*cos(f + 4*g)/((256*G/L + 256)*sqrt(-G**2/L**2 + 1)) - 36*(1 - H**2/G**2)**2*(G/L - 1)**2*cos(4*f)/(128*G/L + 128) + 45*(1 - H**2/G**2)**2*(G/L - 1)*(G**2/L**2 + 2*G/L - 7)*cos(3*f + 4*g)/(256*sqrt(-G**2/L**2 + 1)) + 30*(1 - H**2/G**2)**2*(G/L - 1)*(G**2/L**2 - 2*G/L - 7)*cos(2*f + 4*g)/(256*G/L + 256) - 6*(1 - H**2/G**2)**2*(-0.01171875*G**2/L**2 + 0.01171875)*cos(6*f + 4*g) - 0.046875*(1 - H**2/G**2)**2*(5*G**2/L**2 + 35) + 0.046875*(1 - H**2/G**2)**2*(G**2/L**2 - 18*G/L + 21)*cos(4*f + 4*g) + 15*(1 - H**2/G**2)**2*(3*G**3/L**3 - 7*G**2/L**2 - 3*G/L + 7)*cos(5*f + 4*g)/(256*sqrt(-G**2/L**2 + 1)) - 3*(1 - H**2/G**2)*(G/L - 1)*(-20*G**2/L**2 + 102*G/L + (1 - H**2/G**2)*(26*G**2/L**2 - 109*G/L - 145) + 126)*cos(f + 2*g)/(64*sqrt(-G**2/L**2 + 1)) - 3*(1 - H**2/G**2)*(G/L - 1)*(-2*G**2/L**2 - 16*G/L + (1 - H**2/G**2)*(3*G**2/L**2 + 25*G/L + 43) - 28)*cos(3*f + 2*g)/(32*sqrt(-G**2/L**2 + 1)) - 0.046875*(1 - H**2/G**2)*(8*G**2/L**2 - 80) + 3*(G/L - 1)**2*((1 - H**2/G**2)**2*(25*G**2/L**2 - 6*G/L - 59) + (1 - H**2/G**2)*(16*G**2/L**2 + 48*G/L + 32) - 16*(G/L + 1)**2)*cos(3*f)/((256*G/L + 256)*sqrt(-G**2/L**2 + 1)) - 3*(G/L - 1)**2*(-2*G*(1 - H**2/G**2)*(3*G/L + 4)/L + (1 - H**2/G**2)**2*(7*G**2/L**2 + 9*G/L - 1))*cos(f - 2*g)/((32*G/L + 32)*sqrt(-G**2/L**2 + 1)) + 3*(G/L - 1)*(8*G**2/L**2 + 96*G/L + (1 - H**2/G**2)**2*(49*G**2/L**2 + 37*G/L + 112) - (1 - H**2/G**2)*(40*G**2/L**2 + 168*G/L + 240) + 120)*cos(f)/(128*sqrt(-G**2/L**2 + 1)) - 6*(G/L - 1)*(-8*G**2/L**2 - 32*G/L + (1 - H**2/G**2)**2*(5*G**2/L**2 + 4*G/L - 31) + (1 - H**2/G**2)*(8*G**2/L**2 + 48*G/L + 48) - 24)*cos(2*f)/(128*G/L + 128) + 3*(G/L - 1)*((1 - H**2/G**2)**2*(15*G**2/L**2 + 50*G/L + 25) - (1 - H**2/G**2)*(14*G**2/L**2 + 44*G/L + 22))*cos(2*g)/(32*G/L + 32) - 1.875)/G**10"
      ]
     },
     "execution_count": 74,
     "metadata": {},
     "output_type": "execute_result"
    }
   ],
   "source": [
    "mu**2/(L**3)*W2.diff(f)*G/L*a**2/r**2"
   ]
  },
  {
   "cell_type": "code",
   "execution_count": 77,
   "metadata": {},
   "outputs": [
    {
     "data": {
      "text/latex": [
       "$\\displaystyle \\frac{\\alpha^{4} \\mu^{6} \\left(- \\frac{G^{2} \\left(0.234375 \\left(1 - \\frac{H^{2}}{G^{2}}\\right)^{2} - \\frac{0.375 H^{2}}{G^{2}}\\right)}{L^{2}} - \\frac{G \\left(1.6875 \\left(1 - \\frac{H^{2}}{G^{2}}\\right)^{2} - 1.5 + \\frac{2.25 H^{2}}{G^{2}}\\right)}{L} - 1.640625 \\left(1 - \\frac{H^{2}}{G^{2}}\\right)^{2} + \\left(\\frac{\\left(0.375 - \\frac{0.375 H^{2}}{G^{2}}\\right) \\left(1 - \\frac{5 H^{2}}{G^{2}}\\right) \\left(\\frac{G}{L} - 1\\right) \\left(\\frac{2 G}{L} + 1\\right)}{\\frac{G}{L} + 1} + \\left(\\frac{G^{2}}{L^{2}} - 1\\right) \\left(1.40625 \\left(1 - \\frac{H^{2}}{G^{2}}\\right)^{2} - 1.3125 + \\frac{1.3125 H^{2}}{G^{2}}\\right)\\right) \\cos{\\left(2 g \\right)} + 1.875 - \\frac{3.75 H^{2}}{G^{2}}\\right)}{G^{7} L^{3}} + \\frac{\\alpha^{4} \\mu^{6} \\left(- \\frac{0.375 G^{2}}{L^{2}} - 0.5625 \\left(1 - \\frac{5 H^{2}}{G^{2}}\\right) \\left(1 - \\frac{H^{2}}{G^{2}}\\right) \\sqrt{- \\frac{G^{2}}{L^{2}} + 1} \\cos{\\left(f + 2 g \\right)} - 0.1875 \\left(1 - \\frac{5 H^{2}}{G^{2}}\\right) \\left(1 - \\frac{H^{2}}{G^{2}}\\right) \\sqrt{- \\frac{G^{2}}{L^{2}} + 1} \\cos{\\left(3 f + 2 g \\right)} - 0.5625 \\left(1 - \\frac{5 H^{2}}{G^{2}}\\right) \\left(1 - \\frac{H^{2}}{G^{2}}\\right) \\cos{\\left(2 f + 2 g \\right)} + 0.046875 \\left(1 - \\frac{H^{2}}{G^{2}}\\right)^{2} \\left(\\frac{5 G^{2}}{L^{2}} + 35\\right) + 0.046875 \\left(1 - \\frac{H^{2}}{G^{2}}\\right) \\left(\\frac{8 G^{2}}{L^{2}} - 80\\right) - \\frac{3 \\left(\\frac{G}{L} - 1\\right) \\left(\\left(1 - \\frac{H^{2}}{G^{2}}\\right)^{2} \\left(\\frac{15 G^{2}}{L^{2}} + \\frac{50 G}{L} + 25\\right) - \\left(1 - \\frac{H^{2}}{G^{2}}\\right) \\left(\\frac{14 G^{2}}{L^{2}} + \\frac{44 G}{L} + 22\\right)\\right) \\cos{\\left(2 g \\right)}}{\\frac{32 G}{L} + 32} + 1.875\\right)}{G^{7} L^{3}} + \\frac{\\alpha^{4} \\mu^{6} \\left(\\sqrt{- \\frac{G^{2}}{L^{2}} + 1} \\cos{\\left(f \\right)} + 1\\right)^{2} \\left(\\frac{0.375 G^{2}}{L^{2}} - 4 \\left(0.0234375 - \\frac{0.0234375 H^{2}}{G^{2}}\\right) \\left(\\frac{G}{L} - 1\\right) \\left(- \\frac{10 G}{L} + \\left(1 - \\frac{H^{2}}{G^{2}}\\right) \\left(\\frac{13 G}{L} + 31\\right) - 22\\right) \\cos{\\left(4 f + 2 g \\right)} + 2 \\left(0.046875 - \\frac{0.046875 H^{2}}{G^{2}}\\right) \\left(- \\frac{4 G^{2}}{L^{2}} - \\frac{6 G}{L} + \\left(1 - \\frac{H^{2}}{G^{2}}\\right) \\left(\\frac{2 G^{2}}{L^{2}} + \\frac{9 G}{L} - 23\\right) + 26\\right) \\cos{\\left(2 f + 2 g \\right)} - 0.5625 \\left(1 - \\frac{5 H^{2}}{G^{2}}\\right) \\left(1 - \\frac{H^{2}}{G^{2}}\\right) \\left(f - l\\right) \\sqrt{- \\frac{G^{2}}{L^{2}} + 1} \\sin{\\left(f + 2 g \\right)} - 0.5625 \\left(1 - \\frac{5 H^{2}}{G^{2}}\\right) \\left(1 - \\frac{H^{2}}{G^{2}}\\right) \\left(f - l\\right) \\sqrt{- \\frac{G^{2}}{L^{2}} + 1} \\sin{\\left(3 f + 2 g \\right)} - 1.125 \\left(1 - \\frac{5 H^{2}}{G^{2}}\\right) \\left(1 - \\frac{H^{2}}{G^{2}}\\right) \\left(f - l\\right) \\sin{\\left(2 f + 2 g \\right)} + 0.5625 \\left(1 - \\frac{5 H^{2}}{G^{2}}\\right) \\left(1 - \\frac{H^{2}}{G^{2}}\\right) \\sqrt{- \\frac{G^{2}}{L^{2}} + 1} \\cos{\\left(f + 2 g \\right)} + 0.1875 \\left(1 - \\frac{5 H^{2}}{G^{2}}\\right) \\left(1 - \\frac{H^{2}}{G^{2}}\\right) \\sqrt{- \\frac{G^{2}}{L^{2}} + 1} \\cos{\\left(3 f + 2 g \\right)} + 0.5625 \\left(1 - \\frac{5 H^{2}}{G^{2}}\\right) \\left(1 - \\frac{H^{2}}{G^{2}}\\right) \\cos{\\left(2 f + 2 g \\right)} - \\frac{3 \\left(1 - \\frac{3 H^{2}}{G^{2}}\\right) \\left(1 - \\frac{H^{2}}{G^{2}}\\right) \\left(\\frac{G}{L} - 1\\right)^{3} \\cos{\\left(3 f - 2 g \\right)}}{128 \\sqrt{- \\frac{G^{2}}{L^{2}} + 1}} + \\frac{6 \\left(1 - \\frac{3 H^{2}}{G^{2}}\\right) \\left(1 - \\frac{H^{2}}{G^{2}}\\right) \\left(\\frac{G}{L} - 1\\right)^{2} \\cos{\\left(2 f - 2 g \\right)}}{\\frac{64 G}{L} + 64} - 0.1171875 \\left(1 - \\frac{3 H^{2}}{G^{2}}\\right) \\left(1 - \\frac{H^{2}}{G^{2}}\\right) \\left(\\frac{G}{L} - 1\\right) \\sqrt{- \\frac{G^{2}}{L^{2}} + 1} \\cos{\\left(5 f + 2 g \\right)} + \\frac{15 \\left(1 - \\frac{H^{2}}{G^{2}}\\right)^{2} \\left(\\frac{G}{L} - 1\\right)^{3} \\cos{\\left(5 f \\right)}}{256 \\sqrt{- \\frac{G^{2}}{L^{2}} + 1}} + \\frac{3 \\left(1 - \\frac{H^{2}}{G^{2}}\\right)^{2} \\left(\\frac{G}{L} - 1\\right)^{3} \\cos{\\left(f - 4 g \\right)}}{256 \\sqrt{- \\frac{G^{2}}{L^{2}} + 1}} + \\frac{3 \\left(1 - \\frac{H^{2}}{G^{2}}\\right)^{2} \\left(\\frac{G}{L} - 1\\right)^{2} \\left(\\frac{G^{2}}{L^{2}} + \\frac{18 G}{L} + 21\\right) \\cos{\\left(f + 4 g \\right)}}{\\left(\\frac{256 G}{L} + 256\\right) \\sqrt{- \\frac{G^{2}}{L^{2}} + 1}} - \\frac{36 \\left(1 - \\frac{H^{2}}{G^{2}}\\right)^{2} \\left(\\frac{G}{L} - 1\\right)^{2} \\cos{\\left(4 f \\right)}}{\\frac{128 G}{L} + 128} + \\frac{45 \\left(1 - \\frac{H^{2}}{G^{2}}\\right)^{2} \\left(\\frac{G}{L} - 1\\right) \\left(\\frac{G^{2}}{L^{2}} + \\frac{2 G}{L} - 7\\right) \\cos{\\left(3 f + 4 g \\right)}}{256 \\sqrt{- \\frac{G^{2}}{L^{2}} + 1}} + \\frac{30 \\left(1 - \\frac{H^{2}}{G^{2}}\\right)^{2} \\left(\\frac{G}{L} - 1\\right) \\left(\\frac{G^{2}}{L^{2}} - \\frac{2 G}{L} - 7\\right) \\cos{\\left(2 f + 4 g \\right)}}{\\frac{256 G}{L} + 256} - 6 \\left(1 - \\frac{H^{2}}{G^{2}}\\right)^{2} \\left(- \\frac{0.01171875 G^{2}}{L^{2}} + 0.01171875\\right) \\cos{\\left(6 f + 4 g \\right)} - 0.046875 \\left(1 - \\frac{H^{2}}{G^{2}}\\right)^{2} \\left(\\frac{5 G^{2}}{L^{2}} + 35\\right) + 0.046875 \\left(1 - \\frac{H^{2}}{G^{2}}\\right)^{2} \\left(\\frac{G^{2}}{L^{2}} - \\frac{18 G}{L} + 21\\right) \\cos{\\left(4 f + 4 g \\right)} + \\frac{15 \\left(1 - \\frac{H^{2}}{G^{2}}\\right)^{2} \\left(\\frac{3 G^{3}}{L^{3}} - \\frac{7 G^{2}}{L^{2}} - \\frac{3 G}{L} + 7\\right) \\cos{\\left(5 f + 4 g \\right)}}{256 \\sqrt{- \\frac{G^{2}}{L^{2}} + 1}} - \\frac{3 \\left(1 - \\frac{H^{2}}{G^{2}}\\right) \\left(\\frac{G}{L} - 1\\right) \\left(- \\frac{20 G^{2}}{L^{2}} + \\frac{102 G}{L} + \\left(1 - \\frac{H^{2}}{G^{2}}\\right) \\left(\\frac{26 G^{2}}{L^{2}} - \\frac{109 G}{L} - 145\\right) + 126\\right) \\cos{\\left(f + 2 g \\right)}}{64 \\sqrt{- \\frac{G^{2}}{L^{2}} + 1}} - \\frac{3 \\left(1 - \\frac{H^{2}}{G^{2}}\\right) \\left(\\frac{G}{L} - 1\\right) \\left(- \\frac{2 G^{2}}{L^{2}} - \\frac{16 G}{L} + \\left(1 - \\frac{H^{2}}{G^{2}}\\right) \\left(\\frac{3 G^{2}}{L^{2}} + \\frac{25 G}{L} + 43\\right) - 28\\right) \\cos{\\left(3 f + 2 g \\right)}}{32 \\sqrt{- \\frac{G^{2}}{L^{2}} + 1}} - 0.046875 \\left(1 - \\frac{H^{2}}{G^{2}}\\right) \\left(\\frac{8 G^{2}}{L^{2}} - 80\\right) + \\frac{3 \\left(\\frac{G}{L} - 1\\right)^{2} \\left(\\left(1 - \\frac{H^{2}}{G^{2}}\\right)^{2} \\left(\\frac{25 G^{2}}{L^{2}} - \\frac{6 G}{L} - 59\\right) + \\left(1 - \\frac{H^{2}}{G^{2}}\\right) \\left(\\frac{16 G^{2}}{L^{2}} + \\frac{48 G}{L} + 32\\right) - 16 \\left(\\frac{G}{L} + 1\\right)^{2}\\right) \\cos{\\left(3 f \\right)}}{\\left(\\frac{256 G}{L} + 256\\right) \\sqrt{- \\frac{G^{2}}{L^{2}} + 1}} - \\frac{3 \\left(\\frac{G}{L} - 1\\right)^{2} \\left(- \\frac{2 G \\left(1 - \\frac{H^{2}}{G^{2}}\\right) \\left(\\frac{3 G}{L} + 4\\right)}{L} + \\left(1 - \\frac{H^{2}}{G^{2}}\\right)^{2} \\left(\\frac{7 G^{2}}{L^{2}} + \\frac{9 G}{L} - 1\\right)\\right) \\cos{\\left(f - 2 g \\right)}}{\\left(\\frac{32 G}{L} + 32\\right) \\sqrt{- \\frac{G^{2}}{L^{2}} + 1}} + \\frac{3 \\left(\\frac{G}{L} - 1\\right) \\left(\\frac{8 G^{2}}{L^{2}} + \\frac{96 G}{L} + \\left(1 - \\frac{H^{2}}{G^{2}}\\right)^{2} \\left(\\frac{49 G^{2}}{L^{2}} + \\frac{37 G}{L} + 112\\right) - \\left(1 - \\frac{H^{2}}{G^{2}}\\right) \\left(\\frac{40 G^{2}}{L^{2}} + \\frac{168 G}{L} + 240\\right) + 120\\right) \\cos{\\left(f \\right)}}{128 \\sqrt{- \\frac{G^{2}}{L^{2}} + 1}} - \\frac{6 \\left(\\frac{G}{L} - 1\\right) \\left(- \\frac{8 G^{2}}{L^{2}} - \\frac{32 G}{L} + \\left(1 - \\frac{H^{2}}{G^{2}}\\right)^{2} \\left(\\frac{5 G^{2}}{L^{2}} + \\frac{4 G}{L} - 31\\right) + \\left(1 - \\frac{H^{2}}{G^{2}}\\right) \\left(\\frac{8 G^{2}}{L^{2}} + \\frac{48 G}{L} + 48\\right) - 24\\right) \\cos{\\left(2 f \\right)}}{\\frac{128 G}{L} + 128} + \\frac{3 \\left(\\frac{G}{L} - 1\\right) \\left(\\left(1 - \\frac{H^{2}}{G^{2}}\\right)^{2} \\left(\\frac{15 G^{2}}{L^{2}} + \\frac{50 G}{L} + 25\\right) - \\left(1 - \\frac{H^{2}}{G^{2}}\\right) \\left(\\frac{14 G^{2}}{L^{2}} + \\frac{44 G}{L} + 22\\right)\\right) \\cos{\\left(2 g \\right)}}{\\frac{32 G}{L} + 32} - 1.875\\right)}{G^{10}}$"
      ],
      "text/plain": [
       "alpha**4*mu**6*(-G**2*(0.234375*(1 - H**2/G**2)**2 - 0.375*H**2/G**2)/L**2 - G*(1.6875*(1 - H**2/G**2)**2 - 1.5 + 2.25*H**2/G**2)/L - 1.640625*(1 - H**2/G**2)**2 + ((0.375 - 0.375*H**2/G**2)*(1 - 5*H**2/G**2)*(G/L - 1)*(2*G/L + 1)/(G/L + 1) + (G**2/L**2 - 1)*(1.40625*(1 - H**2/G**2)**2 - 1.3125 + 1.3125*H**2/G**2))*cos(2*g) + 1.875 - 3.75*H**2/G**2)/(G**7*L**3) + alpha**4*mu**6*(-0.375*G**2/L**2 - 0.5625*(1 - 5*H**2/G**2)*(1 - H**2/G**2)*sqrt(-G**2/L**2 + 1)*cos(f + 2*g) - 0.1875*(1 - 5*H**2/G**2)*(1 - H**2/G**2)*sqrt(-G**2/L**2 + 1)*cos(3*f + 2*g) - 0.5625*(1 - 5*H**2/G**2)*(1 - H**2/G**2)*cos(2*f + 2*g) + 0.046875*(1 - H**2/G**2)**2*(5*G**2/L**2 + 35) + 0.046875*(1 - H**2/G**2)*(8*G**2/L**2 - 80) - 3*(G/L - 1)*((1 - H**2/G**2)**2*(15*G**2/L**2 + 50*G/L + 25) - (1 - H**2/G**2)*(14*G**2/L**2 + 44*G/L + 22))*cos(2*g)/(32*G/L + 32) + 1.875)/(G**7*L**3) + alpha**4*mu**6*(sqrt(-G**2/L**2 + 1)*cos(f) + 1)**2*(0.375*G**2/L**2 - 4*(0.0234375 - 0.0234375*H**2/G**2)*(G/L - 1)*(-10*G/L + (1 - H**2/G**2)*(13*G/L + 31) - 22)*cos(4*f + 2*g) + 2*(0.046875 - 0.046875*H**2/G**2)*(-4*G**2/L**2 - 6*G/L + (1 - H**2/G**2)*(2*G**2/L**2 + 9*G/L - 23) + 26)*cos(2*f + 2*g) - 0.5625*(1 - 5*H**2/G**2)*(1 - H**2/G**2)*(f - l)*sqrt(-G**2/L**2 + 1)*sin(f + 2*g) - 0.5625*(1 - 5*H**2/G**2)*(1 - H**2/G**2)*(f - l)*sqrt(-G**2/L**2 + 1)*sin(3*f + 2*g) - 1.125*(1 - 5*H**2/G**2)*(1 - H**2/G**2)*(f - l)*sin(2*f + 2*g) + 0.5625*(1 - 5*H**2/G**2)*(1 - H**2/G**2)*sqrt(-G**2/L**2 + 1)*cos(f + 2*g) + 0.1875*(1 - 5*H**2/G**2)*(1 - H**2/G**2)*sqrt(-G**2/L**2 + 1)*cos(3*f + 2*g) + 0.5625*(1 - 5*H**2/G**2)*(1 - H**2/G**2)*cos(2*f + 2*g) - 3*(1 - 3*H**2/G**2)*(1 - H**2/G**2)*(G/L - 1)**3*cos(3*f - 2*g)/(128*sqrt(-G**2/L**2 + 1)) + 6*(1 - 3*H**2/G**2)*(1 - H**2/G**2)*(G/L - 1)**2*cos(2*f - 2*g)/(64*G/L + 64) - 0.1171875*(1 - 3*H**2/G**2)*(1 - H**2/G**2)*(G/L - 1)*sqrt(-G**2/L**2 + 1)*cos(5*f + 2*g) + 15*(1 - H**2/G**2)**2*(G/L - 1)**3*cos(5*f)/(256*sqrt(-G**2/L**2 + 1)) + 3*(1 - H**2/G**2)**2*(G/L - 1)**3*cos(f - 4*g)/(256*sqrt(-G**2/L**2 + 1)) + 3*(1 - H**2/G**2)**2*(G/L - 1)**2*(G**2/L**2 + 18*G/L + 21)*cos(f + 4*g)/((256*G/L + 256)*sqrt(-G**2/L**2 + 1)) - 36*(1 - H**2/G**2)**2*(G/L - 1)**2*cos(4*f)/(128*G/L + 128) + 45*(1 - H**2/G**2)**2*(G/L - 1)*(G**2/L**2 + 2*G/L - 7)*cos(3*f + 4*g)/(256*sqrt(-G**2/L**2 + 1)) + 30*(1 - H**2/G**2)**2*(G/L - 1)*(G**2/L**2 - 2*G/L - 7)*cos(2*f + 4*g)/(256*G/L + 256) - 6*(1 - H**2/G**2)**2*(-0.01171875*G**2/L**2 + 0.01171875)*cos(6*f + 4*g) - 0.046875*(1 - H**2/G**2)**2*(5*G**2/L**2 + 35) + 0.046875*(1 - H**2/G**2)**2*(G**2/L**2 - 18*G/L + 21)*cos(4*f + 4*g) + 15*(1 - H**2/G**2)**2*(3*G**3/L**3 - 7*G**2/L**2 - 3*G/L + 7)*cos(5*f + 4*g)/(256*sqrt(-G**2/L**2 + 1)) - 3*(1 - H**2/G**2)*(G/L - 1)*(-20*G**2/L**2 + 102*G/L + (1 - H**2/G**2)*(26*G**2/L**2 - 109*G/L - 145) + 126)*cos(f + 2*g)/(64*sqrt(-G**2/L**2 + 1)) - 3*(1 - H**2/G**2)*(G/L - 1)*(-2*G**2/L**2 - 16*G/L + (1 - H**2/G**2)*(3*G**2/L**2 + 25*G/L + 43) - 28)*cos(3*f + 2*g)/(32*sqrt(-G**2/L**2 + 1)) - 0.046875*(1 - H**2/G**2)*(8*G**2/L**2 - 80) + 3*(G/L - 1)**2*((1 - H**2/G**2)**2*(25*G**2/L**2 - 6*G/L - 59) + (1 - H**2/G**2)*(16*G**2/L**2 + 48*G/L + 32) - 16*(G/L + 1)**2)*cos(3*f)/((256*G/L + 256)*sqrt(-G**2/L**2 + 1)) - 3*(G/L - 1)**2*(-2*G*(1 - H**2/G**2)*(3*G/L + 4)/L + (1 - H**2/G**2)**2*(7*G**2/L**2 + 9*G/L - 1))*cos(f - 2*g)/((32*G/L + 32)*sqrt(-G**2/L**2 + 1)) + 3*(G/L - 1)*(8*G**2/L**2 + 96*G/L + (1 - H**2/G**2)**2*(49*G**2/L**2 + 37*G/L + 112) - (1 - H**2/G**2)*(40*G**2/L**2 + 168*G/L + 240) + 120)*cos(f)/(128*sqrt(-G**2/L**2 + 1)) - 6*(G/L - 1)*(-8*G**2/L**2 - 32*G/L + (1 - H**2/G**2)**2*(5*G**2/L**2 + 4*G/L - 31) + (1 - H**2/G**2)*(8*G**2/L**2 + 48*G/L + 48) - 24)*cos(2*f)/(128*G/L + 128) + 3*(G/L - 1)*((1 - H**2/G**2)**2*(15*G**2/L**2 + 50*G/L + 25) - (1 - H**2/G**2)*(14*G**2/L**2 + 44*G/L + 22))*cos(2*g)/(32*G/L + 32) - 1.875)/G**10"
      ]
     },
     "execution_count": 77,
     "metadata": {},
     "output_type": "execute_result"
    }
   ],
   "source": [
    "K2+mu**2/(L**3)*W2.diff(l)+mu**2/(L**3)*W2.diff(f)*G/L*a**2/r**2"
   ]
  },
  {
   "cell_type": "code",
   "execution_count": 78,
   "metadata": {},
   "outputs": [
    {
     "data": {
      "text/latex": [
       "$\\displaystyle 0$"
      ],
      "text/plain": [
       "0"
      ]
     },
     "execution_count": 78,
     "metadata": {},
     "output_type": "execute_result"
    }
   ],
   "source": [
    "H1.diff(l)"
   ]
  },
  {
   "cell_type": "code",
   "execution_count": null,
   "metadata": {},
   "outputs": [],
   "source": [
    "H02_tilde = (2*H1.diff(f)*G/L*a**2/r**2*W1.diff(L) - 2*H1.diff(L)*L**3/mu**2*(H1-K1))"
   ]
  }
 ],
 "metadata": {
  "kernelspec": {
   "display_name": "base",
   "language": "python",
   "name": "python3"
  },
  "language_info": {
   "codemirror_mode": {
    "name": "ipython",
    "version": 3
   },
   "file_extension": ".py",
   "mimetype": "text/x-python",
   "name": "python",
   "nbconvert_exporter": "python",
   "pygments_lexer": "ipython3",
   "version": "3.11.8"
  }
 },
 "nbformat": 4,
 "nbformat_minor": 2
}
